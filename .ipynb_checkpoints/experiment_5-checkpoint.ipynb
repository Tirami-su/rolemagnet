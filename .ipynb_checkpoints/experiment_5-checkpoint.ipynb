{
 "cells": [
  {
   "cell_type": "markdown",
   "metadata": {},
   "source": [
    "可扩展性测试"
   ]
  },
  {
   "cell_type": "code",
   "execution_count": 1,
   "metadata": {
    "scrolled": true
   },
   "outputs": [],
   "source": [
    "import numpy as np\n",
    "import networkx as nx\n",
    "import matplotlib.pyplot as plt\n",
    "\n",
    "# numpy array 全部输出\n",
    "np.set_printoptions(threshold=np.nan)"
   ]
  },
  {
   "cell_type": "code",
   "execution_count": 2,
   "metadata": {},
   "outputs": [],
   "source": [
    "from math import pow\n",
    "\n",
    "def fractal(branch, layer, prefix='0', reverse=False):\n",
    "    nodes=[prefix]\n",
    "    edges=[]\n",
    "    if reverse:\n",
    "        for i in range(layer-1):\n",
    "            new_nodes=[]\n",
    "            for j in nodes[i]:#为该层的每一个点添加下一层点\n",
    "                for k in range(1,branch+1):\n",
    "                    edges.append((j+str(k),j,1.0/pow(branch,i)))\n",
    "                    new_nodes.append(j+str(k))\n",
    "            nodes.append(new_nodes)\n",
    "    else:\n",
    "        for i in range(layer-1):\n",
    "            new_nodes=[]\n",
    "            for j in nodes[i]:#为该层的每一个点添加下一层点\n",
    "                for k in range(1,branch+1):\n",
    "                    edges.append((j,j+str(k),1.0/pow(branch,i)))\n",
    "                    new_nodes.append(j+str(k))\n",
    "            nodes.append(new_nodes)\n",
    "\n",
    "    color=['tomato','orange','limegreen','c','dodgerblue','blueviolet','lightgray','peru']\n",
    "    if reverse:\n",
    "        color=color[::-1]\n",
    "    c=[]\n",
    "    for k,v in enumerate(nodes):\n",
    "        for i in range(len(v)):\n",
    "            c.append(color[k])\n",
    "    return nodes,edges,c"
   ]
  },
  {
   "cell_type": "markdown",
   "metadata": {},
   "source": [
    "## Creating a graph\n",
    "做两个形状相同方向相反的分形网络，然后合并中心点"
   ]
  },
  {
   "cell_type": "code",
   "execution_count": 3,
   "metadata": {},
   "outputs": [],
   "source": [
    "%matplotlib inline\n",
    "plt.rcParams['figure.dpi'] = 150\n",
    "plt.rcParams['figure.figsize'] = (4, 3)\n",
    "\n",
    "G = nx.DiGraph()\n",
    "nodes,edges,color1=fractal(3,3)\n",
    "G.add_weighted_edges_from(edges)   \n",
    "nodes,edges,color2=fractal(3,3,prefix='1',reverse=True)\n",
    "G.add_node('1')\n",
    "G.add_weighted_edges_from(edges)  \n",
    "for k,v in G['0'].items():\n",
    "    G.add_weighted_edges_from([('1',k,v['weight'])])\n",
    "G.remove_node('0')\n",
    "\n",
    "true_label=[len(i) if i[0]=='1' else len(i)*2 for i in G.nodes]\n",
    "\n",
    "balance=[0]*len(G.nodes)\n",
    "for i,node in enumerate(G.nodes):\n",
    "    for k,v in G[node].items():\n",
    "        balance[i]-=v['weight']\n",
    "rev_G=G.reverse()\n",
    "for i,node in enumerate(rev_G.nodes):\n",
    "    for k,v in rev_G[node].items():\n",
    "        balance[i]+=v['weight']"
   ]
  },
  {
   "cell_type": "markdown",
   "metadata": {},
   "source": [
    "## RoleMagnet"
   ]
  },
  {
   "cell_type": "code",
   "execution_count": 4,
   "metadata": {
    "scrolled": false
   },
   "outputs": [
    {
     "name": "stdout",
     "output_type": "stream",
     "text": [
      "Embedding: 100.00%  -\n",
      "SOM shape: [83, 50]\n",
      "Training SOM: 75\n",
      "2.9125600000000005\n"
     ]
    }
   ],
   "source": [
    "import rolemagnet as rm\n",
    "import time\n",
    "\n",
    "start=time.clock()\n",
    "vec,role,label=rm.role_magnet(G)\n",
    "end=time.clock()\n",
    "print(end-start)"
   ]
  },
  {
   "cell_type": "markdown",
   "metadata": {},
   "source": [
    "## Evaluation\n",
    "用 Adjusted Rand Index 和 V-Measure 两种指标评价聚类结果"
   ]
  },
  {
   "cell_type": "code",
   "execution_count": 5,
   "metadata": {},
   "outputs": [
    {
     "name": "stdout",
     "output_type": "stream",
     "text": [
      "Adjusted Rand Index: 1.0\n",
      "V-Measure: (0.9999999999999999, 1.0, 0.9999999999999999)\n"
     ]
    }
   ],
   "source": [
    "from sklearn.metrics.cluster import adjusted_rand_score, homogeneity_completeness_v_measure\n",
    "\n",
    "print('Adjusted Rand Index:',adjusted_rand_score(true_label,label))\n",
    "print('V-Measure:',homogeneity_completeness_v_measure(true_label,label))"
   ]
  }
 ],
 "metadata": {
  "kernelspec": {
   "display_name": "Python 3",
   "language": "python",
   "name": "python3"
  },
  "language_info": {
   "codemirror_mode": {
    "name": "ipython",
    "version": 3
   },
   "file_extension": ".py",
   "mimetype": "text/x-python",
   "name": "python",
   "nbconvert_exporter": "python",
   "pygments_lexer": "ipython3",
   "version": "3.6.4"
  }
 },
 "nbformat": 4,
 "nbformat_minor": 2
}
