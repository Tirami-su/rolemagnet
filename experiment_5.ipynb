{
 "cells": [
  {
   "cell_type": "markdown",
   "metadata": {},
   "source": [
    "可扩展性测试"
   ]
  },
  {
   "cell_type": "code",
   "execution_count": 1,
   "metadata": {
    "scrolled": true
   },
   "outputs": [],
   "source": [
    "import numpy as np\n",
    "import networkx as nx\n",
    "import matplotlib.pyplot as plt"
   ]
  },
  {
   "cell_type": "code",
   "execution_count": 2,
   "metadata": {},
   "outputs": [],
   "source": [
    "from math import pow\n",
    "import random\n",
    "\n",
    "def fractal(branch, layer, prefix='0', reverse=False):\n",
    "    nodes=[prefix]\n",
    "    edges=[]\n",
    "    if reverse:\n",
    "        for i in range(layer-1):\n",
    "            new_nodes=[]\n",
    "            for j in nodes[i]:#为该层的每一个点添加下一层点\n",
    "                for k in range(1,branch+1):\n",
    "                    edges.append((j+str(k),j,1.0/pow(branch,i)*(1+(random.random()-0.5)*0.2)))\n",
    "                    new_nodes.append(j+str(k))\n",
    "            nodes.append(new_nodes)\n",
    "    else:\n",
    "        for i in range(layer-1):\n",
    "            new_nodes=[]\n",
    "            for j in nodes[i]:#为该层的每一个点添加下一层点\n",
    "                for k in range(1,branch+1):\n",
    "                    edges.append((j,j+str(k),1.0/pow(branch,i)*(1+(random.random()-0.5)*0.2)))\n",
    "                    new_nodes.append(j+str(k))\n",
    "            nodes.append(new_nodes)\n",
    "\n",
    "    color=['tomato','orange','limegreen','c','dodgerblue','blueviolet','lightgray','peru']\n",
    "    if reverse:\n",
    "        color=color[::-1]\n",
    "    c=[]\n",
    "    for k,v in enumerate(nodes):\n",
    "        for i in range(len(v)):\n",
    "            c.append(color[k])\n",
    "    return nodes,edges,c"
   ]
  },
  {
   "cell_type": "markdown",
   "metadata": {},
   "source": [
    "## Creating a graph\n",
    "做两个形状相同方向相反的分形网络，然后合并中心点。网络带20%的边权重噪声和节点权重噪声，因为SOM训练次数取决于数据分布，如果用节点嵌入完全重叠的理想网络测，聚类时间不真实\n",
    "\n",
    "修改`fractal()`的参数，可以改变图的规模"
   ]
  },
  {
   "cell_type": "code",
   "execution_count": 3,
   "metadata": {},
   "outputs": [],
   "source": [
    "G = nx.DiGraph()\n",
    "nodes,edges,color1=fractal(3,3)\n",
    "G.add_weighted_edges_from(edges)   \n",
    "nodes,edges,color2=fractal(3,3,prefix='1',reverse=True)\n",
    "G.add_node('1')\n",
    "G.add_weighted_edges_from(edges)  \n",
    "for k,v in G['0'].items():\n",
    "    G.add_weighted_edges_from([('1',k,v['weight'])])\n",
    "G.remove_node('0')\n",
    "\n",
    "true_label=[len(i) if i[0]=='1' else len(i)*2 for i in G.nodes]\n",
    "\n",
    "balance=[(random.random()-0.5)*0.2 for i in range(len(G.nodes))]\n",
    "for i,node in enumerate(G.nodes):\n",
    "    for k,v in G[node].items():\n",
    "        balance[i]-=v['weight']\n",
    "rev_G=G.reverse()\n",
    "for i,node in enumerate(rev_G.nodes):\n",
    "    for k,v in rev_G[node].items():\n",
    "        balance[i]+=v['weight']"
   ]
  },
  {
   "cell_type": "markdown",
   "metadata": {},
   "source": [
    "## RoleMagnet\n",
    "这里给出测总时间的例子。如果要单独测表示学习或聚类的时间，需要修改rolemagnet.py，解除`mid_time=time.perf_counter()`的注释，把`mid_time`加到返回值"
   ]
  },
  {
   "cell_type": "code",
   "execution_count": 4,
   "metadata": {
    "scrolled": false
   },
   "outputs": [
    {
     "name": "stdout",
     "output_type": "stream",
     "text": [
      "Embedding: 100.00%  -\n",
      "SOM shape: [6, 8]\n",
      "Training SOM: 125\n",
      "600 2.5244376389309764\n"
     ]
    }
   ],
   "source": [
    "import rolemagnet as rm\n",
    "import time\n",
    "\n",
    "start=time.perf_counter()\n",
    "vec,role,label=rm.role_magnet(G, balance=balance)\n",
    "end=time.perf_counter()\n",
    "print(len(G.nodes)*len(G.edges),end-start)"
   ]
  },
  {
   "cell_type": "markdown",
   "metadata": {},
   "source": [
    "## Evaluation\n",
    "用 Adjusted Rand Index 和 V-Measure 两种指标评价聚类结果"
   ]
  },
  {
   "cell_type": "code",
   "execution_count": 5,
   "metadata": {},
   "outputs": [
    {
     "name": "stdout",
     "output_type": "stream",
     "text": [
      "Adjusted Rand Index: 1.0\n",
      "V-Measure: (1.0, 1.0, 1.0)\n"
     ]
    }
   ],
   "source": [
    "from sklearn.metrics.cluster import adjusted_rand_score, homogeneity_completeness_v_measure\n",
    "\n",
    "print('Adjusted Rand Index:',adjusted_rand_score(true_label,label))\n",
    "print('V-Measure:',homogeneity_completeness_v_measure(true_label,label))"
   ]
  }
 ],
 "metadata": {
  "kernelspec": {
   "display_name": "Python 3",
   "language": "python",
   "name": "python3"
  },
  "language_info": {
   "codemirror_mode": {
    "name": "ipython",
    "version": 3
   },
   "file_extension": ".py",
   "mimetype": "text/x-python",
   "name": "python",
   "nbconvert_exporter": "python",
   "pygments_lexer": "ipython3",
   "version": "3.6.4"
  }
 },
 "nbformat": 4,
 "nbformat_minor": 2
}
